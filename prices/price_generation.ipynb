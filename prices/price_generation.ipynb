{
 "cells": [
  {
   "cell_type": "code",
   "execution_count": 85,
   "id": "c64c5039",
   "metadata": {},
   "outputs": [],
   "source": [
    "import numpy as np\n",
    "import pandas as pd"
   ]
  },
  {
   "attachments": {},
   "cell_type": "markdown",
   "id": "4d1788c6",
   "metadata": {},
   "source": [
    "примем за основу того что \n",
    "quantity  - кол-во товара. Начальный показатель 100%, шаг уменьшения -3\n",
    "margin - маржа. Начальный показатель 0%, шаг уменьшения -2\n",
    "price_reduction - уменьшение маржи. Начальный показатель 100%, шаг уменьшения -1\n",
    "это три основных показателя для расчета транспортных расходов. Все показатели  находятся в массивах\n",
    "\n",
    "result = 1 + (1 / quantity - 1) * (1 + margin) * price_reduction\n",
    "\n",
    "result = 1 + (1 / (var1/100) - 1) * (1 + (var2/100)) * (var3/100)\n",
    "Где:\n",
    "\n",
    "result - результат расчета стоимости продажи товара\n",
    "var1 - значение изменения количества товара в процентах\n",
    "var2 - значение изменения маржи в процентах\n",
    "var3 - значение уменьшения себестоимости в процентах\n",
    "\n"
   ]
  },
  {
   "cell_type": "code",
   "execution_count": 201,
   "id": "9597ad67",
   "metadata": {},
   "outputs": [],
   "source": [
    "quantity = np.arange(100, 0, -3)\n",
    "result_quantity = quantity / 100\n",
    "margin = np.arange(0, -100, -3)\n",
    "result_margin = margin / 100 \n",
    "\n",
    "price_reduction = np.arange(100, 0, -1)\n",
    "result_price_reduction = price_reduction / 100\n",
    "\n",
    "def transpone_margin(result_margin, result_quantity):\n",
    "    num_rows = len(result_quantity)\n",
    "    num_cols = len(result_margin)\n",
    "    matrix = np.reshape(result_margin, (1, num_cols))\n",
    "    matrix = np.tile(matrix, (num_rows, 1))\n",
    "    matrix = np.transpose(matrix)\n",
    "    return matrix\n",
    "margin = transpone_margin(result_margin, result_quantity)\n",
    "# print(pd.DataFrame(margin))\n",
    "def transpone_quantity(result_quantity):\n",
    "    num_rows = len(result_quantity)\n",
    "    num_cols = len(result_quantity)\n",
    "    matrix = np.reshape(result_quantity, (1, num_cols))\n",
    "    matrix = np.tile(matrix, (num_rows, 1))\n",
    "    return matrix\n",
    "quantity = transpone_quantity(result_quantity)\n",
    "# print(pd.DataFrame(quantity))\n",
    "def transpone_price_reduction(result_price_reduction, result_quantity):\n",
    "    num_rows = len(result_quantity)\n",
    "    num_cols = len(result_price_reduction)\n",
    "    matrix = np.reshape(result_price_reduction, (1, num_cols))\n",
    "    matrix = np.tile(matrix, (num_rows, 1))\n",
    "    return matrix\n",
    "\n",
    "price_reduction = transpone_price_reduction(result_price_reduction, result_quantity)\n",
    "def resize_matrices(matrix1, matrix2, matrix3):\n",
    "    # Определение минимального размера\n",
    "    min_rows = min(matrix1.shape[0], matrix2.shape[0], matrix3.shape[0])\n",
    "    min_cols = min(matrix1.shape[1], matrix2.shape[1], matrix3.shape[1])\n",
    "\n",
    "    # Обрезание матриц до минимального размера\n",
    "    matrix1 = matrix1[:min_rows, :min_cols]\n",
    "    matrix2 = matrix2[:min_rows, :min_cols]\n",
    "    matrix3 = matrix3[:min_rows, :min_cols]\n",
    "\n",
    "    return matrix1, matrix2, matrix3\n",
    "\n",
    "margin, quantity, price_reduction = resize_matrices(margin, quantity, price_reduction)"
   ]
  },
  {
   "cell_type": "code",
   "execution_count": 210,
   "id": "2a15d052",
   "metadata": {},
   "outputs": [
    {
     "name": "stdout",
     "output_type": "stream",
     "text": [
      "[[         inf          inf          inf ...          inf          inf\n",
      "           inf]\n",
      " [-67.66666667 -65.9603     -64.27453333 ... -24.3483     -23.28053333\n",
      "  -22.23336667]\n",
      " [-34.33333333 -33.4553     -32.58786667 ... -12.0433     -11.49386667\n",
      "  -10.95503333]\n",
      " ...\n",
      " [ -3.15053763  -3.04739677  -2.94550108 ...  -0.53217097  -0.46763011\n",
      "   -0.40433441]\n",
      " [ -3.08333333  -2.9818625   -2.88161667 ...  -0.5073625   -0.44386667\n",
      "   -0.38159583]\n",
      " [ -3.02020202  -2.9203      -2.82160404 ...  -0.48405758  -0.42154343\n",
      "   -0.36023535]]\n"
     ]
    },
    {
     "name": "stderr",
     "output_type": "stream",
     "text": [
      "/tmp/ipykernel_435191/4219038795.py:3: RuntimeWarning: divide by zero encountered in divide\n",
      "  price = 1 + (1 / quantity - 1) * (1 + margin) * price_reduction\n"
     ]
    }
   ],
   "source": [
    "# print(pd.DataFrame(margin))\n",
    "def price_generator(quantity, margin, price_reduction):\n",
    "    price = 1 + (1 / quantity - 1) * (1 + margin) * price_reduction \n",
    "    return price\n",
    "\n",
    "print(price_generator(margin, quantity, price_reduction))"
   ]
  },
  {
   "attachments": {},
   "cell_type": "markdown",
   "id": "0f37124c",
   "metadata": {},
   "source": [
    "((T / Q) * (1 + lambda_value)) * Q == T * (1 + lambda_value)"
   ]
  },
  {
   "cell_type": "code",
   "execution_count": 59,
   "id": "f0868ded",
   "metadata": {},
   "outputs": [
    {
     "name": "stdout",
     "output_type": "stream",
     "text": [
      "1.0287814432989693\n"
     ]
    }
   ],
   "source": [
    "quantity = 0.97\n",
    "margin = -0.06\n",
    "price_reduction = 0.99\n",
    "\n",
    "def price_generator(quantity, margin, price_reduction):\n",
    "    price = 1 + (1 / quantity - 1) * (1 + margin)  * price_reduction \n",
    "    return price\n",
    "\n",
    "price = price_generator(quantity, margin, price_reduction)\n",
    "print(price)"
   ]
  }
 ],
 "metadata": {
  "kernelspec": {
   "display_name": "Python 3 (ipykernel)",
   "language": "python",
   "name": "python3"
  },
  "language_info": {
   "codemirror_mode": {
    "name": "ipython",
    "version": 3
   },
   "file_extension": ".py",
   "mimetype": "text/x-python",
   "name": "python",
   "nbconvert_exporter": "python",
   "pygments_lexer": "ipython3",
   "version": "3.11.3"
  }
 },
 "nbformat": 4,
 "nbformat_minor": 5
}
